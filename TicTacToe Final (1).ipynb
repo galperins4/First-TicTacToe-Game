{
 "cells": [
  {
   "cell_type": "code",
   "execution_count": null,
   "metadata": {
    "collapsed": false
   },
   "outputs": [],
   "source": [
    " import random # imports random function to determine who starts\n",
    "# Tic Tac Toe game\n",
    "ttt_start()        \n",
    "print('Game over! Thanks for playing')"
   ]
  },
  {
   "cell_type": "code",
   "execution_count": 8,
   "metadata": {
    "collapsed": false
   },
   "outputs": [],
   "source": [
    "def ttt_start():\n",
    "    d = {'p1':0,'p2':0} #creates a dictionary to track player turns\n",
    "    # this is the main game function\n",
    "    print('welcome to tic-tac-toe \\n')\n",
    "    b = initialize_board()\n",
    "    print(\"\\nLet's get started\")\n",
    "    print(\"Selecting random player to start...\")\n",
    "    flip_coin = random.randint(1,2)\n",
    "    print('Player',flip_coin,'selected to go first')\n",
    "\n",
    "    while d['p1']+d['p2'] < 9:\n",
    "        if flip_coin == 1:\n",
    "            m = 'X' # sets player 1 marker\n",
    "            p = int(input(\"Player 1 please make your selection:\")) # gets pick\n",
    "            player_input(b,m,p) #plays pick\n",
    "            if win_check(b,m) == True:\n",
    "                print('You have won the game!')\n",
    "                break\n",
    "            d['p1']+=1 # increment turn count up\n",
    "            flip_coin = 2 # set turn to other player\n",
    "        else:\n",
    "            m = 'O' # sets player 2 marker\n",
    "            p = int(input(\"Player 2 please make your selection:\")) # gets pick\n",
    "            player_input(b,m,p) # plays pick\n",
    "            if win_check(b,m) == True:\n",
    "                print('You have won the game!')\n",
    "                break\n",
    "            d['p2']+=1 # increment turn count up\n",
    "            flip_coin = 1 # sets turn to other player\n",
    "            \n",
    "    print('No more turns available')\n",
    "    play_again = input('Would you like to play another game?')\n",
    "    if play_again == 'Y':\n",
    "        ttt_start()\n",
    "    "
   ]
  },
  {
   "cell_type": "code",
   "execution_count": 2,
   "metadata": {
    "collapsed": true
   },
   "outputs": [],
   "source": [
    "# Initialize Board\n",
    "def initialize_board():\n",
    "    board = [' ']*9\n",
    "    print_board(board)\n",
    "    return board"
   ]
  },
  {
   "cell_type": "code",
   "execution_count": 3,
   "metadata": {
    "collapsed": false
   },
   "outputs": [],
   "source": [
    "# Player turns\n",
    "def player_input(board,marker,position):\n",
    "    if check_input(board,position)==True:\n",
    "        p = int(input('Position has already been selected or is not valid, make another selection:'))\n",
    "        player_input(board,marker,p)\n",
    "    else:\n",
    "        board[position-1] = marker # update board with selection\n",
    "        print_board(board) # print updated board\n",
    "        return board # return updated board for use"
   ]
  },
  {
   "cell_type": "code",
   "execution_count": 4,
   "metadata": {
    "collapsed": true
   },
   "outputs": [],
   "source": [
    "# Print Board\n",
    "def print_board(b):\n",
    "    print(''+b[0]+' | '+b[1]+' | '+b[2])\n",
    "    print('----------')\n",
    "    print(''+b[3]+' | '+b[4]+' | '+b[5])\n",
    "    print('----------')\n",
    "    print(''+b[6]+' | '+b[7]+' | '+b[8])"
   ]
  },
  {
   "cell_type": "code",
   "execution_count": 5,
   "metadata": {
    "collapsed": false
   },
   "outputs": [],
   "source": [
    "# Check for Winner\n",
    "def win_check(b,m):\n",
    "    # define winning combination\n",
    "     return ((b[6] == m and b[7] == m and b[8] == m) or # across the top\n",
    "    (b[3] == m and b[4] == m and b[5] == m) or # across the middle\n",
    "    (b[0] == m and b[1] == m and b[2] == m) or # across the bottom\n",
    "    (b[6] == m and b[3] == m and b[0] == m) or # down left side\n",
    "    (b[7] == m and b[4] == m and b[1] == m) or # down the middle\n",
    "    (b[8] == m and b[5] == m and b[2] == m) or # down the right side\n",
    "    (b[6] == m and b[4] == m and b[2] == m) or # diagonal\n",
    "    (b[8] == m and b[4] == m and b[0] == m)) # diagonal"
   ]
  },
  {
   "cell_type": "code",
   "execution_count": 6,
   "metadata": {
    "collapsed": false
   },
   "outputs": [],
   "source": [
    "# Check for duplicate entry\n",
    "def check_input(board,position):\n",
    "    if position not in range(1,10):\n",
    "        return True\n",
    "    elif board[position-1] == 'X' or board[position-1] == 'O':\n",
    "        return True\n"
   ]
  }
 ],
 "metadata": {
  "kernelspec": {
   "display_name": "Python 3",
   "language": "python",
   "name": "python3"
  },
  "language_info": {
   "codemirror_mode": {
    "name": "ipython",
    "version": 3
   },
   "file_extension": ".py",
   "mimetype": "text/x-python",
   "name": "python",
   "nbconvert_exporter": "python",
   "pygments_lexer": "ipython3",
   "version": "3.5.1"
  },
  "widgets": {
   "state": {},
   "version": "1.1.2"
  }
 },
 "nbformat": 4,
 "nbformat_minor": 0
}
